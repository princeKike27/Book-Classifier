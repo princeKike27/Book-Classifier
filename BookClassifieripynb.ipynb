{
  "nbformat": 4,
  "nbformat_minor": 0,
  "metadata": {
    "colab": {
      "name": "BookClassifieripynb",
      "provenance": [],
      "collapsed_sections": [],
      "authorship_tag": "ABX9TyPCblHVEOLYz5fTlaNmZi0I",
      "include_colab_link": true
    },
    "kernelspec": {
      "name": "python3",
      "display_name": "Python 3"
    },
    "language_info": {
      "name": "python"
    }
  },
  "cells": [
    {
      "cell_type": "markdown",
      "metadata": {
        "id": "view-in-github",
        "colab_type": "text"
      },
      "source": [
        "<a href=\"https://colab.research.google.com/github/princeKike27/Book-Classifier/blob/main/BookClassifieripynb.ipynb\" target=\"_parent\"><img src=\"https://colab.research.google.com/assets/colab-badge.svg\" alt=\"Open In Colab\"/></a>"
      ]
    },
    {
      "cell_type": "markdown",
      "metadata": {
        "id": "zLcBLUbL5XuQ"
      },
      "source": [
        "# Book Classifier\n",
        "\n",
        "For this project ..."
      ]
    },
    {
      "cell_type": "markdown",
      "metadata": {
        "id": "Ip3q00gD51ov"
      },
      "source": [
        "![purple-divider](https://user-images.githubusercontent.com/7065401/52071927-c1cd7100-2562-11e9-908a-dde91ba14e59.png)"
      ]
    },
    {
      "cell_type": "code",
      "metadata": {
        "id": "UJjr4w3C5UOF"
      },
      "source": [
        "# import modules\n",
        "import pandas as pd\n",
        "import numpy as np\n",
        "import matplotlib.pyplot as plt\n",
        "import seaborn as sns"
      ],
      "execution_count": 1,
      "outputs": []
    },
    {
      "cell_type": "code",
      "metadata": {
        "id": "ZpHrG9d-6BWd",
        "colab": {
          "base_uri": "https://localhost:8080/"
        },
        "outputId": "61800827-81f3-4aa0-b4c3-bd057e11021d"
      },
      "source": [
        "# get data files\n",
        "!wget https://cdn.freecodecamp.org/project-data/books/book-crossings.zip\n",
        "\n",
        "!unzip book-crossings.zip\n",
        "\n",
        "books_file = 'BX-Books.csv'\n",
        "ratings_file = 'BX-Book-Ratings.csv'"
      ],
      "execution_count": 2,
      "outputs": [
        {
          "output_type": "stream",
          "name": "stdout",
          "text": [
            "--2021-10-15 19:43:39--  https://cdn.freecodecamp.org/project-data/books/book-crossings.zip\n",
            "Resolving cdn.freecodecamp.org (cdn.freecodecamp.org)... 104.26.3.33, 172.67.70.149, 104.26.2.33, ...\n",
            "Connecting to cdn.freecodecamp.org (cdn.freecodecamp.org)|104.26.3.33|:443... connected.\n",
            "HTTP request sent, awaiting response... 200 OK\n",
            "Length: 26085508 (25M) [application/zip]\n",
            "Saving to: ‘book-crossings.zip’\n",
            "\n",
            "book-crossings.zip  100%[===================>]  24.88M  23.3MB/s    in 1.1s    \n",
            "\n",
            "2021-10-15 19:43:40 (23.3 MB/s) - ‘book-crossings.zip’ saved [26085508/26085508]\n",
            "\n",
            "Archive:  book-crossings.zip\n",
            "  inflating: BX-Book-Ratings.csv     \n",
            "  inflating: BX-Books.csv            \n",
            "  inflating: BX-Users.csv            \n"
          ]
        }
      ]
    },
    {
      "cell_type": "code",
      "metadata": {
        "colab": {
          "base_uri": "https://localhost:8080/"
        },
        "id": "hDmsY3Fc6oZW",
        "outputId": "d0247a46-5b76-4f6f-9621-55fc6393822e"
      },
      "source": [
        "# create dataframes\n",
        "\n",
        "# books df\n",
        "df_books = pd.read_csv(\n",
        "    books_file,\n",
        "    encoding='ISO-8859-1', # latin alphabet\n",
        "    sep=';',\n",
        "    header=0,\n",
        "    names=['isbn', 'title', 'author', 'year'],\n",
        "    usecols=['isbn', 'title', 'author', 'year']\n",
        ")   \n",
        "\n",
        "# ratings df\n",
        "df_ratings = pd.read_csv(\n",
        "    ratings_file,\n",
        "    encoding='ISO-8859-1',\n",
        "    sep=';',\n",
        "    header=0,\n",
        "    names=['user_id', 'isbn', 'rating'],\n",
        "    usecols=['user_id', 'isbn', 'rating']\n",
        ")"
      ],
      "execution_count": 3,
      "outputs": [
        {
          "output_type": "stream",
          "name": "stderr",
          "text": [
            "/usr/local/lib/python3.7/dist-packages/IPython/core/interactiveshell.py:2718: DtypeWarning: Columns (3) have mixed types.Specify dtype option on import or set low_memory=False.\n",
            "  interactivity=interactivity, compiler=compiler, result=result)\n"
          ]
        }
      ]
    },
    {
      "cell_type": "code",
      "metadata": {
        "colab": {
          "base_uri": "https://localhost:8080/",
          "height": 206
        },
        "id": "-QKlvEB69frO",
        "outputId": "90bd673d-1f2a-47b2-e959-92dafc277ff2"
      },
      "source": [
        "# check books df\n",
        "df_books.head()"
      ],
      "execution_count": 4,
      "outputs": [
        {
          "output_type": "execute_result",
          "data": {
            "text/html": [
              "<div>\n",
              "<style scoped>\n",
              "    .dataframe tbody tr th:only-of-type {\n",
              "        vertical-align: middle;\n",
              "    }\n",
              "\n",
              "    .dataframe tbody tr th {\n",
              "        vertical-align: top;\n",
              "    }\n",
              "\n",
              "    .dataframe thead th {\n",
              "        text-align: right;\n",
              "    }\n",
              "</style>\n",
              "<table border=\"1\" class=\"dataframe\">\n",
              "  <thead>\n",
              "    <tr style=\"text-align: right;\">\n",
              "      <th></th>\n",
              "      <th>isbn</th>\n",
              "      <th>title</th>\n",
              "      <th>author</th>\n",
              "      <th>year</th>\n",
              "    </tr>\n",
              "  </thead>\n",
              "  <tbody>\n",
              "    <tr>\n",
              "      <th>0</th>\n",
              "      <td>0195153448</td>\n",
              "      <td>Classical Mythology</td>\n",
              "      <td>Mark P. O. Morford</td>\n",
              "      <td>2002</td>\n",
              "    </tr>\n",
              "    <tr>\n",
              "      <th>1</th>\n",
              "      <td>0002005018</td>\n",
              "      <td>Clara Callan</td>\n",
              "      <td>Richard Bruce Wright</td>\n",
              "      <td>2001</td>\n",
              "    </tr>\n",
              "    <tr>\n",
              "      <th>2</th>\n",
              "      <td>0060973129</td>\n",
              "      <td>Decision in Normandy</td>\n",
              "      <td>Carlo D'Este</td>\n",
              "      <td>1991</td>\n",
              "    </tr>\n",
              "    <tr>\n",
              "      <th>3</th>\n",
              "      <td>0374157065</td>\n",
              "      <td>Flu: The Story of the Great Influenza Pandemic...</td>\n",
              "      <td>Gina Bari Kolata</td>\n",
              "      <td>1999</td>\n",
              "    </tr>\n",
              "    <tr>\n",
              "      <th>4</th>\n",
              "      <td>0393045218</td>\n",
              "      <td>The Mummies of Urumchi</td>\n",
              "      <td>E. J. W. Barber</td>\n",
              "      <td>1999</td>\n",
              "    </tr>\n",
              "  </tbody>\n",
              "</table>\n",
              "</div>"
            ],
            "text/plain": [
              "         isbn  ...  year\n",
              "0  0195153448  ...  2002\n",
              "1  0002005018  ...  2001\n",
              "2  0060973129  ...  1991\n",
              "3  0374157065  ...  1999\n",
              "4  0393045218  ...  1999\n",
              "\n",
              "[5 rows x 4 columns]"
            ]
          },
          "metadata": {},
          "execution_count": 4
        }
      ]
    },
    {
      "cell_type": "code",
      "metadata": {
        "colab": {
          "base_uri": "https://localhost:8080/",
          "height": 206
        },
        "id": "9q2YAFSlLioG",
        "outputId": "5db8ec70-fafa-4b90-f528-4c90e18310d6"
      },
      "source": [
        "# check ratings df\n",
        "df_ratings.head()"
      ],
      "execution_count": 5,
      "outputs": [
        {
          "output_type": "execute_result",
          "data": {
            "text/html": [
              "<div>\n",
              "<style scoped>\n",
              "    .dataframe tbody tr th:only-of-type {\n",
              "        vertical-align: middle;\n",
              "    }\n",
              "\n",
              "    .dataframe tbody tr th {\n",
              "        vertical-align: top;\n",
              "    }\n",
              "\n",
              "    .dataframe thead th {\n",
              "        text-align: right;\n",
              "    }\n",
              "</style>\n",
              "<table border=\"1\" class=\"dataframe\">\n",
              "  <thead>\n",
              "    <tr style=\"text-align: right;\">\n",
              "      <th></th>\n",
              "      <th>user_id</th>\n",
              "      <th>isbn</th>\n",
              "      <th>rating</th>\n",
              "    </tr>\n",
              "  </thead>\n",
              "  <tbody>\n",
              "    <tr>\n",
              "      <th>0</th>\n",
              "      <td>276725</td>\n",
              "      <td>034545104X</td>\n",
              "      <td>0</td>\n",
              "    </tr>\n",
              "    <tr>\n",
              "      <th>1</th>\n",
              "      <td>276726</td>\n",
              "      <td>0155061224</td>\n",
              "      <td>5</td>\n",
              "    </tr>\n",
              "    <tr>\n",
              "      <th>2</th>\n",
              "      <td>276727</td>\n",
              "      <td>0446520802</td>\n",
              "      <td>0</td>\n",
              "    </tr>\n",
              "    <tr>\n",
              "      <th>3</th>\n",
              "      <td>276729</td>\n",
              "      <td>052165615X</td>\n",
              "      <td>3</td>\n",
              "    </tr>\n",
              "    <tr>\n",
              "      <th>4</th>\n",
              "      <td>276729</td>\n",
              "      <td>0521795028</td>\n",
              "      <td>6</td>\n",
              "    </tr>\n",
              "  </tbody>\n",
              "</table>\n",
              "</div>"
            ],
            "text/plain": [
              "   user_id        isbn  rating\n",
              "0   276725  034545104X       0\n",
              "1   276726  0155061224       5\n",
              "2   276727  0446520802       0\n",
              "3   276729  052165615X       3\n",
              "4   276729  0521795028       6"
            ]
          },
          "metadata": {},
          "execution_count": 5
        }
      ]
    },
    {
      "cell_type": "markdown",
      "metadata": {
        "id": "LmxjMWTkNQB6"
      },
      "source": [
        "![purple-divider](https://user-images.githubusercontent.com/7065401/52071927-c1cd7100-2562-11e9-908a-dde91ba14e59.png)"
      ]
    },
    {
      "cell_type": "markdown",
      "metadata": {
        "id": "-U3pKjBSNRA5"
      },
      "source": [
        "## Books DataFrame"
      ]
    },
    {
      "cell_type": "code",
      "metadata": {
        "colab": {
          "base_uri": "https://localhost:8080/",
          "height": 206
        },
        "id": "0Mbg5CZ6NXU-",
        "outputId": "95740d84-f2d2-487a-dcad-aed66c444beb"
      },
      "source": [
        "df_books.head()"
      ],
      "execution_count": 6,
      "outputs": [
        {
          "output_type": "execute_result",
          "data": {
            "text/html": [
              "<div>\n",
              "<style scoped>\n",
              "    .dataframe tbody tr th:only-of-type {\n",
              "        vertical-align: middle;\n",
              "    }\n",
              "\n",
              "    .dataframe tbody tr th {\n",
              "        vertical-align: top;\n",
              "    }\n",
              "\n",
              "    .dataframe thead th {\n",
              "        text-align: right;\n",
              "    }\n",
              "</style>\n",
              "<table border=\"1\" class=\"dataframe\">\n",
              "  <thead>\n",
              "    <tr style=\"text-align: right;\">\n",
              "      <th></th>\n",
              "      <th>isbn</th>\n",
              "      <th>title</th>\n",
              "      <th>author</th>\n",
              "      <th>year</th>\n",
              "    </tr>\n",
              "  </thead>\n",
              "  <tbody>\n",
              "    <tr>\n",
              "      <th>0</th>\n",
              "      <td>0195153448</td>\n",
              "      <td>Classical Mythology</td>\n",
              "      <td>Mark P. O. Morford</td>\n",
              "      <td>2002</td>\n",
              "    </tr>\n",
              "    <tr>\n",
              "      <th>1</th>\n",
              "      <td>0002005018</td>\n",
              "      <td>Clara Callan</td>\n",
              "      <td>Richard Bruce Wright</td>\n",
              "      <td>2001</td>\n",
              "    </tr>\n",
              "    <tr>\n",
              "      <th>2</th>\n",
              "      <td>0060973129</td>\n",
              "      <td>Decision in Normandy</td>\n",
              "      <td>Carlo D'Este</td>\n",
              "      <td>1991</td>\n",
              "    </tr>\n",
              "    <tr>\n",
              "      <th>3</th>\n",
              "      <td>0374157065</td>\n",
              "      <td>Flu: The Story of the Great Influenza Pandemic...</td>\n",
              "      <td>Gina Bari Kolata</td>\n",
              "      <td>1999</td>\n",
              "    </tr>\n",
              "    <tr>\n",
              "      <th>4</th>\n",
              "      <td>0393045218</td>\n",
              "      <td>The Mummies of Urumchi</td>\n",
              "      <td>E. J. W. Barber</td>\n",
              "      <td>1999</td>\n",
              "    </tr>\n",
              "  </tbody>\n",
              "</table>\n",
              "</div>"
            ],
            "text/plain": [
              "         isbn  ...  year\n",
              "0  0195153448  ...  2002\n",
              "1  0002005018  ...  2001\n",
              "2  0060973129  ...  1991\n",
              "3  0374157065  ...  1999\n",
              "4  0393045218  ...  1999\n",
              "\n",
              "[5 rows x 4 columns]"
            ]
          },
          "metadata": {},
          "execution_count": 6
        }
      ]
    },
    {
      "cell_type": "code",
      "metadata": {
        "colab": {
          "base_uri": "https://localhost:8080/"
        },
        "id": "vHSDHweQNiD3",
        "outputId": "e5205377-63b5-4af0-b484-549f1758a810"
      },
      "source": [
        "# check shape\n",
        "df_books.shape"
      ],
      "execution_count": 7,
      "outputs": [
        {
          "output_type": "execute_result",
          "data": {
            "text/plain": [
              "(271379, 4)"
            ]
          },
          "metadata": {},
          "execution_count": 7
        }
      ]
    },
    {
      "cell_type": "code",
      "metadata": {
        "colab": {
          "base_uri": "https://localhost:8080/"
        },
        "id": "5y3Nr9P1Nm8M",
        "outputId": "d15cd6ee-42ce-4ac8-de06-a631d35f3caf"
      },
      "source": [
        "# check column types\n",
        "df_books.dtypes"
      ],
      "execution_count": 8,
      "outputs": [
        {
          "output_type": "execute_result",
          "data": {
            "text/plain": [
              "isbn      object\n",
              "title     object\n",
              "author    object\n",
              "year      object\n",
              "dtype: object"
            ]
          },
          "metadata": {},
          "execution_count": 8
        }
      ]
    },
    {
      "cell_type": "code",
      "metadata": {
        "colab": {
          "base_uri": "https://localhost:8080/",
          "height": 334
        },
        "id": "wU9osNqYNtkr",
        "outputId": "10e505bc-85d1-447d-af0e-913b2ca9633d"
      },
      "source": [
        "# check for missing values\n",
        "import missingno as msg\n",
        "\n",
        "msg.matrix(df_books, figsize=(8,4))"
      ],
      "execution_count": 9,
      "outputs": [
        {
          "output_type": "execute_result",
          "data": {
            "text/plain": [
              "<matplotlib.axes._subplots.AxesSubplot at 0x7f1974885e50>"
            ]
          },
          "metadata": {},
          "execution_count": 9
        },
        {
          "output_type": "display_data",
          "data": {
            "image/png": "[encoded data removed]",
            "text/plain": [
              "<Figure size 576x288 with 2 Axes>"
            ]
          },
          "metadata": {
            "needs_background": "light"
          }
        }
      ]
    },
    {
      "cell_type": "markdown",
      "metadata": {
        "id": "AVxeuMD1tzHa"
      },
      "source": [
        "![green-divider](https://user-images.githubusercontent.com/7065401/52071924-c003ad80-2562-11e9-8297-1c6595f8a7ff.png)"
      ]
    },
    {
      "cell_type": "markdown",
      "metadata": {
        "id": "gYwVmc2ccXJo"
      },
      "source": [
        "### Year Column Cleansing"
      ]
    },
    {
      "cell_type": "code",
      "metadata": {
        "colab": {
          "base_uri": "https://localhost:8080/"
        },
        "id": "pCiTjSJeOEZK",
        "outputId": "ee703993-168a-4fb3-99cd-56daee1449e8"
      },
      "source": [
        "# check unique years in year column\n",
        "df_books.year.unique()"
      ],
      "execution_count": 10,
      "outputs": [
        {
          "output_type": "execute_result",
          "data": {
            "text/plain": [
              "array(['2002', '2001', '1991', '1999', '2000', '1993', '1996', '1988',\n",
              "       '2004', '1998', '1994', '2003', '1997', '1983', '1979', '1995',\n",
              "       '1982', '1985', '1992', '1986', '1978', '1980', '1952', '1987',\n",
              "       '1990', '1981', '1989', '1984', '0', '1968', '1961', '1958',\n",
              "       '1974', '1976', '1971', '1977', '1975', '1965', '1941', '1970',\n",
              "       '1962', '1973', '1972', '1960', '1966', '1920', '1956', '1959',\n",
              "       '1953', '1951', '1942', '1963', '1964', '1969', '1954', '1950',\n",
              "       '1967', '2005', '1957', '1940', '1937', 'John Peterman', '1955',\n",
              "       '1946', '1936', '1930', '2011', '1925', '1948', '1943', '1947',\n",
              "       '1945', '1923', '2020', '1939', '1926', '1938', '2030',\n",
              "       '\\\\\"Freedom Song\\\\\"\"', '1911', '1904', '1949', 'Frank Muir',\n",
              "       '1932', '1928', '1929', '1927', '1931', '1914', '2050', '1934',\n",
              "       '1910', 'ROBERT A. WILSON', '1933', '1902', 'Karen T. Whittenburg',\n",
              "       '1924', '1921', '1900', '2038', '2026', 'George H. Scherr', '1944',\n",
              "       '1917', '1901', 'Salvador de Madariaga', '2010',\n",
              "       'K.C. Constantine', 'Stan Berenstain', '1908', '1906', '1935',\n",
              "       '1806', 'Francine Pascal', '2021', 'Luella Hill', '2012', '2006',\n",
              "       'John Alderson Foote', 'DK Publishing Inc', 'Jules Janin',\n",
              "       'Gallimard', '1909', '2008', '1378', ' &amp', ' Learning\"', '1919',\n",
              "       '1922', '1897', 'Isadora Duncan', '2024', 'Beatrix Potter', '1376',\n",
              "       '2037', 'Bart Rulon', 'Alan Rich', 2000, 1982, 1983, 1989, 1993,\n",
              "       1991, 1990, 1998, 1994, 1995, 1986, 1987, 1974, 1984, 0, 1977,\n",
              "       1996, 1997, 1980, 1988, 2002, 2001, 1981, 1999, 1992, 2003, 2004,\n",
              "       1972, 1976, 1985, 1978, 1979, 1970, 1962, 1975, 1901, 1973, 1955,\n",
              "       1971, 1964, 1963, 1958, 1968, 1969, 1966, 1946, 1943, 1967, 1949,\n",
              "       1965, 1961, 1960, 1930, 1951, 1957, 1959, 1952, 1953, 1956, 1950,\n",
              "       1954, 1920, 2005, 1940, 1929], dtype=object)"
            ]
          },
          "metadata": {},
          "execution_count": 10
        }
      ]
    },
    {
      "cell_type": "code",
      "metadata": {
        "colab": {
          "base_uri": "https://localhost:8080/",
          "height": 739
        },
        "id": "0ZoOcPiTYZjF",
        "outputId": "38ac9b41-8622-4ca8-9020-1a4334c8cbb2"
      },
      "source": [
        "years_to_change = df_books[(df_books['year'] == 'John Peterman') | (df_books['year'] == 'Frank Muir')|\\\n",
        "         (df_books['year'] == 'ROBERT A. WILSON') | (df_books['year'] == 'Karen T. Whittenburg')|\\\n",
        "         (df_books['year'] == 'Karen T. Whittenburg') | (df_books['year'] == 'George H. Scherr')|\\\n",
        "         (df_books['year'] == 'Salvador de Madariaga') | (df_books['year'] == 'K.C. Constantine')|\\\n",
        "         (df_books['year'] == 'Stan Berenstain') | (df_books['year'] == 'Francine Pascal')|\\\n",
        "         (df_books['year'] == 'Luella Hill') | (df_books['year'] == 'John Alderson Foote')|\\\n",
        "         (df_books['year'] == 'DK Publishing Inc') | (df_books['year'] == 'Jules Janin')|\\\n",
        "         (df_books['year'] == 'Gallimard') | (df_books['year'] == ' &amp')|\\\n",
        "         (df_books['year'] == ' Learning\\\"') | (df_books['year'] == 'Isadora Duncan')|\\\n",
        "         (df_books['year'] == 'Beatrix Potter') | (df_books['year'] == 'Bart Rulon')|\\\n",
        "         (df_books['year'] == 'Alan Rich') | (df_books['year'] == '\\\\\"Freedom Song\\\\\"\"')]\n",
        "\n",
        "years_to_change"
      ],
      "execution_count": 11,
      "outputs": [
        {
          "output_type": "execute_result",
          "data": {
            "text/html": [
              "<div>\n",
              "<style scoped>\n",
              "    .dataframe tbody tr th:only-of-type {\n",
              "        vertical-align: middle;\n",
              "    }\n",
              "\n",
              "    .dataframe tbody tr th {\n",
              "        vertical-align: top;\n",
              "    }\n",
              "\n",
              "    .dataframe thead th {\n",
              "        text-align: right;\n",
              "    }\n",
              "</style>\n",
              "<table border=\"1\" class=\"dataframe\">\n",
              "  <thead>\n",
              "    <tr style=\"text-align: right;\">\n",
              "      <th></th>\n",
              "      <th>isbn</th>\n",
              "      <th>title</th>\n",
              "      <th>author</th>\n",
              "      <th>year</th>\n",
              "    </tr>\n",
              "  </thead>\n",
              "  <tbody>\n",
              "    <tr>\n",
              "      <th>6450</th>\n",
              "      <td>0735201994</td>\n",
              "      <td>Peterman Rides Again: Adventures Continue with...</td>\n",
              "      <td>the Catalog Business\"</td>\n",
              "      <td>John Peterman</td>\n",
              "    </tr>\n",
              "    <tr>\n",
              "      <th>43665</th>\n",
              "      <td>0330482750</td>\n",
              "      <td>Three Novels: \\A Strange and Sublime Address\\\"</td>\n",
              "      <td>\\\"Afternoon Raag\\\"</td>\n",
              "      <td>\\\"Freedom Song\\\"\"</td>\n",
              "    </tr>\n",
              "    <tr>\n",
              "      <th>51749</th>\n",
              "      <td>0413326608</td>\n",
              "      <td>Upon my word!: More stories from \\My word!\\\" a...</td>\n",
              "      <td>Tony Shryane\"</td>\n",
              "      <td>Frank Muir</td>\n",
              "    </tr>\n",
              "    <tr>\n",
              "      <th>92036</th>\n",
              "      <td>0440500702</td>\n",
              "      <td>Schrodinger's Cat Trilogy : \\The Universe Next...</td>\n",
              "      <td>\\\"The Homing Pigeons\\\"\"</td>\n",
              "      <td>ROBERT A. WILSON</td>\n",
              "    </tr>\n",
              "    <tr>\n",
              "      <th>104317</th>\n",
              "      <td>0373166982</td>\n",
              "      <td>Please Say \\I Do\\\"  (Three Weddings &amp;amp</td>\n",
              "      <td>A Hurricane) (Harlequin American Romance, No ...</td>\n",
              "      <td>Karen T. Whittenburg</td>\n",
              "    </tr>\n",
              "    <tr>\n",
              "      <th>121766</th>\n",
              "      <td>0894805959</td>\n",
              "      <td>The Best of the Journal of Irreproducible Resu...</td>\n",
              "      <td>Unfounded Findings\\\"\"</td>\n",
              "      <td>George H. Scherr</td>\n",
              "    </tr>\n",
              "    <tr>\n",
              "      <th>144056</th>\n",
              "      <td>8423920143</td>\n",
              "      <td>GuÃ­a del lector del \\Quijote\\\": Ensayo psicol...</td>\n",
              "      <td>14 : Ensayo)\"</td>\n",
              "      <td>Salvador de Madariaga</td>\n",
              "    </tr>\n",
              "    <tr>\n",
              "      <th>150787</th>\n",
              "      <td>034050823X</td>\n",
              "      <td>The Double Detective: \\The Blank Page\\\" &amp;amp</td>\n",
              "      <td>\\\"A Fix Like This\\\" (Crime Club)\"</td>\n",
              "      <td>K.C. Constantine</td>\n",
              "    </tr>\n",
              "    <tr>\n",
              "      <th>157126</th>\n",
              "      <td>039482492X</td>\n",
              "      <td>C is for Clown: A Circus of \\C\\\" Words, (Brigh...</td>\n",
              "      <td>early books for beginning beginners)\"</td>\n",
              "      <td>Stan Berenstain</td>\n",
              "    </tr>\n",
              "    <tr>\n",
              "      <th>180187</th>\n",
              "      <td>0553570722</td>\n",
              "      <td>\\R\\\" for Revenge: Written by Kate William</td>\n",
              "      <td>Created by Francine Pascal (Sweet Valley High...</td>\n",
              "      <td>Francine Pascal</td>\n",
              "    </tr>\n",
              "    <tr>\n",
              "      <th>185736</th>\n",
              "      <td>096401811X</td>\n",
              "      <td>Solid as a rock \\I\\\" stand: Inspirational poet...</td>\n",
              "      <td>short stories\"</td>\n",
              "      <td>Luella Hill</td>\n",
              "    </tr>\n",
              "    <tr>\n",
              "      <th>209386</th>\n",
              "      <td>085409878X</td>\n",
              "      <td>\\Pie-powder\\\"</td>\n",
              "      <td>being dust from the law courts,\"</td>\n",
              "      <td>John Alderson Foote</td>\n",
              "    </tr>\n",
              "    <tr>\n",
              "      <th>209550</th>\n",
              "      <td>078946697X</td>\n",
              "      <td>DK Readers: Creating the X-Men, How It All Beg...</td>\n",
              "      <td>2000</td>\n",
              "      <td>DK Publishing Inc</td>\n",
              "    </tr>\n",
              "    <tr>\n",
              "      <th>220624</th>\n",
              "      <td>1874100055</td>\n",
              "      <td>\\The Dead Donkey\\\" &amp;amp</td>\n",
              "      <td>\\\"The Guillotined Woman\\\"\"</td>\n",
              "      <td>Jules Janin</td>\n",
              "    </tr>\n",
              "    <tr>\n",
              "      <th>220744</th>\n",
              "      <td>2070426769</td>\n",
              "      <td>Peuple du ciel, suivi de 'Les Bergers\\\";Jean-M...</td>\n",
              "      <td>2003</td>\n",
              "      <td>Gallimard</td>\n",
              "    </tr>\n",
              "    <tr>\n",
              "      <th>221691</th>\n",
              "      <td>0789466953</td>\n",
              "      <td>DK Readers: Creating the X-Men, How Comic Book...</td>\n",
              "      <td>2000</td>\n",
              "      <td>DK Publishing Inc</td>\n",
              "    </tr>\n",
              "    <tr>\n",
              "      <th>227931</th>\n",
              "      <td>0006479839</td>\n",
              "      <td>The LaVyrle Spencer Collection:  Three Classic...</td>\n",
              "      <td>\\\"Forsaking All Others\\\"</td>\n",
              "      <td>&amp;amp</td>\n",
              "    </tr>\n",
              "    <tr>\n",
              "      <th>228955</th>\n",
              "      <td>0807735132</td>\n",
              "      <td>\\The Having of Wonderful Ideas\\\" &amp;amp</td>\n",
              "      <td>Other Essays on Teaching &amp;amp</td>\n",
              "      <td>Learning\"</td>\n",
              "    </tr>\n",
              "    <tr>\n",
              "      <th>245931</th>\n",
              "      <td>0394720784</td>\n",
              "      <td>\\Your Isadora\\\": The love story of Isadora Dun...</td>\n",
              "      <td>Gordon Craig\"</td>\n",
              "      <td>Isadora Duncan</td>\n",
              "    </tr>\n",
              "    <tr>\n",
              "      <th>251294</th>\n",
              "      <td>0723245827</td>\n",
              "      <td>\\The World of Peter Rabbit &amp;amp</td>\n",
              "      <td>Friends\\\" Complete Story Collection\"</td>\n",
              "      <td>Beatrix Potter</td>\n",
              "    </tr>\n",
              "    <tr>\n",
              "      <th>259939</th>\n",
              "      <td>1581801653</td>\n",
              "      <td>Artist\\s Photo Reference: Water &amp;amp</td>\n",
              "      <td>Skies (Artists Photo Reference)\"</td>\n",
              "      <td>Bart Rulon</td>\n",
              "    </tr>\n",
              "    <tr>\n",
              "      <th>261527</th>\n",
              "      <td>006263545X</td>\n",
              "      <td>Ludwig van Beethoven: Play by Play/Symphony No...</td>\n",
              "      <td>The \\\"Egmont\\\" Overture\"</td>\n",
              "      <td>Alan Rich</td>\n",
              "    </tr>\n",
              "  </tbody>\n",
              "</table>\n",
              "</div>"
            ],
            "text/plain": [
              "              isbn  ...                   year\n",
              "6450    0735201994  ...          John Peterman\n",
              "43665   0330482750  ...      \\\"Freedom Song\\\"\"\n",
              "51749   0413326608  ...             Frank Muir\n",
              "92036   0440500702  ...       ROBERT A. WILSON\n",
              "104317  0373166982  ...   Karen T. Whittenburg\n",
              "121766  0894805959  ...       George H. Scherr\n",
              "144056  8423920143  ...  Salvador de Madariaga\n",
              "150787  034050823X  ...       K.C. Constantine\n",
              "157126  039482492X  ...        Stan Berenstain\n",
              "180187  0553570722  ...        Francine Pascal\n",
              "185736  096401811X  ...            Luella Hill\n",
              "209386  085409878X  ...    John Alderson Foote\n",
              "209550  078946697X  ...      DK Publishing Inc\n",
              "220624  1874100055  ...            Jules Janin\n",
              "220744  2070426769  ...              Gallimard\n",
              "221691  0789466953  ...      DK Publishing Inc\n",
              "227931  0006479839  ...                   &amp\n",
              "228955  0807735132  ...              Learning\"\n",
              "245931  0394720784  ...         Isadora Duncan\n",
              "251294  0723245827  ...         Beatrix Potter\n",
              "259939  1581801653  ...             Bart Rulon\n",
              "261527  006263545X  ...              Alan Rich\n",
              "\n",
              "[22 rows x 4 columns]"
            ]
          },
          "metadata": {},
          "execution_count": 11
        }
      ]
    },
    {
      "cell_type": "code",
      "metadata": {
        "id": "8A8XAiJElnr0"
      },
      "source": [
        "# list of indices\n",
        "indices = list(years_to_change.index)\n",
        "\n",
        "# list of years\n",
        "new_years = [2000, 2001, 1974, 1988, 1997, 1989, 1976, 1990, 1972, 1997, 1998, 1973, 2000, 1993, 2003, 2000, 1995,\\\n",
        "             1996, 1976, 1999, 2002, 1995]\n",
        "\n",
        "# list of authors\n",
        "authors = ['John Peterman', 'Amit Chaudhuri', 'Frank Muir', 'Robert A. Wilson', 'Karen T. Whittenburg', 'George H. Scherr',\\\n",
        "           'Salvador de Madariaga', 'K.C. Constantine', 'Stan Berenstain', 'Francine Pascal', ' Luella Hill',\\\n",
        "           'John Alderson Foote', 'Michael Teitelbaum', 'Jules Janin', 'Gallimard', 'James Buckley', 'LaVyrle Spencer',\\\n",
        "           'Eleanor Duckworth', 'Isadora Duncan', 'Beatrix Potter', 'Bart Rulon', 'Alan Rich']"
      ],
      "execution_count": 12,
      "outputs": []
    },
    {
      "cell_type": "code",
      "metadata": {
        "id": "kj40SQCioLbx"
      },
      "source": [
        "# loop throguh every index to change year and author\n",
        "for el in range(len(indices)):\n",
        "  df_books.iloc[indices[el]].year = new_years[el]\n",
        "  df_books.iloc[indices[el]].author = authors[el]"
      ],
      "execution_count": 13,
      "outputs": []
    },
    {
      "cell_type": "code",
      "metadata": {
        "id": "RS4vfQtyoupb"
      },
      "source": [
        "# change year to int type\n",
        "df_books['year'] = df_books['year'].astype(int)"
      ],
      "execution_count": 14,
      "outputs": []
    },
    {
      "cell_type": "code",
      "metadata": {
        "colab": {
          "base_uri": "https://localhost:8080/"
        },
        "id": "804RsJK6hwGq",
        "outputId": "197f5695-9ce4-49a2-a81d-ba9e6004b98a"
      },
      "source": [
        "# check changes\n",
        "df_books.iloc[121766]"
      ],
      "execution_count": 15,
      "outputs": [
        {
          "output_type": "execute_result",
          "data": {
            "text/plain": [
              "isbn                                             0894805959\n",
              "title     The Best of the Journal of Irreproducible Resu...\n",
              "author                                     George H. Scherr\n",
              "year                                                   1989\n",
              "Name: 121766, dtype: object"
            ]
          },
          "metadata": {},
          "execution_count": 15
        }
      ]
    },
    {
      "cell_type": "code",
      "metadata": {
        "colab": {
          "base_uri": "https://localhost:8080/",
          "height": 300
        },
        "id": "bzDy0zYYrunZ",
        "outputId": "3a57d005-af22-4966-b94b-396c0a3af33f"
      },
      "source": [
        "# get descriptive statistics of numeric columns\n",
        "df_books.describe()"
      ],
      "execution_count": 16,
      "outputs": [
        {
          "output_type": "execute_result",
          "data": {
            "text/html": [
              "<div>\n",
              "<style scoped>\n",
              "    .dataframe tbody tr th:only-of-type {\n",
              "        vertical-align: middle;\n",
              "    }\n",
              "\n",
              "    .dataframe tbody tr th {\n",
              "        vertical-align: top;\n",
              "    }\n",
              "\n",
              "    .dataframe thead th {\n",
              "        text-align: right;\n",
              "    }\n",
              "</style>\n",
              "<table border=\"1\" class=\"dataframe\">\n",
              "  <thead>\n",
              "    <tr style=\"text-align: right;\">\n",
              "      <th></th>\n",
              "      <th>year</th>\n",
              "    </tr>\n",
              "  </thead>\n",
              "  <tbody>\n",
              "    <tr>\n",
              "      <th>count</th>\n",
              "      <td>271379.000000</td>\n",
              "    </tr>\n",
              "    <tr>\n",
              "      <th>mean</th>\n",
              "      <td>1959.763394</td>\n",
              "    </tr>\n",
              "    <tr>\n",
              "      <th>std</th>\n",
              "      <td>257.983943</td>\n",
              "    </tr>\n",
              "    <tr>\n",
              "      <th>min</th>\n",
              "      <td>0.000000</td>\n",
              "    </tr>\n",
              "    <tr>\n",
              "      <th>25%</th>\n",
              "      <td>1989.000000</td>\n",
              "    </tr>\n",
              "    <tr>\n",
              "      <th>50%</th>\n",
              "      <td>1995.000000</td>\n",
              "    </tr>\n",
              "    <tr>\n",
              "      <th>75%</th>\n",
              "      <td>2000.000000</td>\n",
              "    </tr>\n",
              "    <tr>\n",
              "      <th>max</th>\n",
              "      <td>2050.000000</td>\n",
              "    </tr>\n",
              "  </tbody>\n",
              "</table>\n",
              "</div>"
            ],
            "text/plain": [
              "                year\n",
              "count  271379.000000\n",
              "mean     1959.763394\n",
              "std       257.983943\n",
              "min         0.000000\n",
              "25%      1989.000000\n",
              "50%      1995.000000\n",
              "75%      2000.000000\n",
              "max      2050.000000"
            ]
          },
          "metadata": {},
          "execution_count": 16
        }
      ]
    },
    {
      "cell_type": "code",
      "metadata": {
        "colab": {
          "base_uri": "https://localhost:8080/",
          "height": 424
        },
        "id": "7qWFtpmStJ7f",
        "outputId": "b57eb0c0-0463-4326-ff3f-90b8a9fa7266"
      },
      "source": [
        "# check books that have year 0\n",
        "df_books[df_books.year == 0]"
      ],
      "execution_count": 17,
      "outputs": [
        {
          "output_type": "execute_result",
          "data": {
            "text/html": [
              "<div>\n",
              "<style scoped>\n",
              "    .dataframe tbody tr th:only-of-type {\n",
              "        vertical-align: middle;\n",
              "    }\n",
              "\n",
              "    .dataframe tbody tr th {\n",
              "        vertical-align: top;\n",
              "    }\n",
              "\n",
              "    .dataframe thead th {\n",
              "        text-align: right;\n",
              "    }\n",
              "</style>\n",
              "<table border=\"1\" class=\"dataframe\">\n",
              "  <thead>\n",
              "    <tr style=\"text-align: right;\">\n",
              "      <th></th>\n",
              "      <th>isbn</th>\n",
              "      <th>title</th>\n",
              "      <th>author</th>\n",
              "      <th>year</th>\n",
              "    </tr>\n",
              "  </thead>\n",
              "  <tbody>\n",
              "    <tr>\n",
              "      <th>176</th>\n",
              "      <td>3150000335</td>\n",
              "      <td>Kabale Und Liebe</td>\n",
              "      <td>Schiller</td>\n",
              "      <td>0</td>\n",
              "    </tr>\n",
              "    <tr>\n",
              "      <th>188</th>\n",
              "      <td>342311360X</td>\n",
              "      <td>Die Liebe in Den Zelten</td>\n",
              "      <td>Gabriel Garcia Marquez</td>\n",
              "      <td>0</td>\n",
              "    </tr>\n",
              "    <tr>\n",
              "      <th>288</th>\n",
              "      <td>0571197639</td>\n",
              "      <td>Poisonwood Bible Edition Uk</td>\n",
              "      <td>Barbara Kingsolver</td>\n",
              "      <td>0</td>\n",
              "    </tr>\n",
              "    <tr>\n",
              "      <th>351</th>\n",
              "      <td>3596214629</td>\n",
              "      <td>Herr Der Fliegen (Fiction, Poetry and Drama)</td>\n",
              "      <td>Golding</td>\n",
              "      <td>0</td>\n",
              "    </tr>\n",
              "    <tr>\n",
              "      <th>542</th>\n",
              "      <td>8845229041</td>\n",
              "      <td>Biblioteca Universale Rizzoli: Sulla Sponda De...</td>\n",
              "      <td>P Coelho</td>\n",
              "      <td>0</td>\n",
              "    </tr>\n",
              "    <tr>\n",
              "      <th>...</th>\n",
              "      <td>...</td>\n",
              "      <td>...</td>\n",
              "      <td>...</td>\n",
              "      <td>...</td>\n",
              "    </tr>\n",
              "    <tr>\n",
              "      <th>270813</th>\n",
              "      <td>014029953X</td>\n",
              "      <td>Foe (Essential.penguin S.)</td>\n",
              "      <td>J.M. Coetzee</td>\n",
              "      <td>0</td>\n",
              "    </tr>\n",
              "    <tr>\n",
              "      <th>270932</th>\n",
              "      <td>0340571187</td>\n",
              "      <td>Postmens House</td>\n",
              "      <td>Maggie Hemingway</td>\n",
              "      <td>0</td>\n",
              "    </tr>\n",
              "    <tr>\n",
              "      <th>271113</th>\n",
              "      <td>8427201079</td>\n",
              "      <td>El Misterio De Sittaford</td>\n",
              "      <td>Agatha Christie</td>\n",
              "      <td>0</td>\n",
              "    </tr>\n",
              "    <tr>\n",
              "      <th>271201</th>\n",
              "      <td>0887781721</td>\n",
              "      <td>Tom Penny</td>\n",
              "      <td>Tony German</td>\n",
              "      <td>0</td>\n",
              "    </tr>\n",
              "    <tr>\n",
              "      <th>271215</th>\n",
              "      <td>3150013763</td>\n",
              "      <td>Der Hofmeister</td>\n",
              "      <td>Jakob Lenz</td>\n",
              "      <td>0</td>\n",
              "    </tr>\n",
              "  </tbody>\n",
              "</table>\n",
              "<p>4618 rows × 4 columns</p>\n",
              "</div>"
            ],
            "text/plain": [
              "              isbn  ... year\n",
              "176     3150000335  ...    0\n",
              "188     342311360X  ...    0\n",
              "288     0571197639  ...    0\n",
              "351     3596214629  ...    0\n",
              "542     8845229041  ...    0\n",
              "...            ...  ...  ...\n",
              "270813  014029953X  ...    0\n",
              "270932  0340571187  ...    0\n",
              "271113  8427201079  ...    0\n",
              "271201  0887781721  ...    0\n",
              "271215  3150013763  ...    0\n",
              "\n",
              "[4618 rows x 4 columns]"
            ]
          },
          "metadata": {},
          "execution_count": 17
        }
      ]
    },
    {
      "cell_type": "code",
      "metadata": {
        "id": "tDrb91elp1SM"
      },
      "source": [
        "# replace books that have year == | 2030 | 2050 | 2038 | 2026 | 2024 | 2037\n",
        "\n",
        "df_books['year'].replace(\n",
        "    {\n",
        "     2030: 1930,\n",
        "     2050: 1950,\n",
        "     2038: 1938,\n",
        "     2026: 1926,\n",
        "     2024: 1924,\n",
        "     2037: 1937},\n",
        "     inplace=True\n",
        ")"
      ],
      "execution_count": 18,
      "outputs": []
    },
    {
      "cell_type": "code",
      "metadata": {
        "id": "KBLJD190tCmK"
      },
      "source": [
        "# make df without books that have year 0\n",
        "df_book = df_books[df_books.year != 0]"
      ],
      "execution_count": 19,
      "outputs": []
    },
    {
      "cell_type": "code",
      "metadata": {
        "colab": {
          "base_uri": "https://localhost:8080/",
          "height": 300
        },
        "id": "A3f79LCVtmSh",
        "outputId": "4ec9585e-ce3a-4c8b-9df2-8f3707bfdea4"
      },
      "source": [
        "# check changes\n",
        "df_book.describe()"
      ],
      "execution_count": 20,
      "outputs": [
        {
          "output_type": "execute_result",
          "data": {
            "text/html": [
              "<div>\n",
              "<style scoped>\n",
              "    .dataframe tbody tr th:only-of-type {\n",
              "        vertical-align: middle;\n",
              "    }\n",
              "\n",
              "    .dataframe tbody tr th {\n",
              "        vertical-align: top;\n",
              "    }\n",
              "\n",
              "    .dataframe thead th {\n",
              "        text-align: right;\n",
              "    }\n",
              "</style>\n",
              "<table border=\"1\" class=\"dataframe\">\n",
              "  <thead>\n",
              "    <tr style=\"text-align: right;\">\n",
              "      <th></th>\n",
              "      <th>year</th>\n",
              "    </tr>\n",
              "  </thead>\n",
              "  <tbody>\n",
              "    <tr>\n",
              "      <th>count</th>\n",
              "      <td>266761.000000</td>\n",
              "    </tr>\n",
              "    <tr>\n",
              "      <th>mean</th>\n",
              "      <td>1993.684722</td>\n",
              "    </tr>\n",
              "    <tr>\n",
              "      <th>std</th>\n",
              "      <td>8.331988</td>\n",
              "    </tr>\n",
              "    <tr>\n",
              "      <th>min</th>\n",
              "      <td>1376.000000</td>\n",
              "    </tr>\n",
              "    <tr>\n",
              "      <th>25%</th>\n",
              "      <td>1989.000000</td>\n",
              "    </tr>\n",
              "    <tr>\n",
              "      <th>50%</th>\n",
              "      <td>1996.000000</td>\n",
              "    </tr>\n",
              "    <tr>\n",
              "      <th>75%</th>\n",
              "      <td>2000.000000</td>\n",
              "    </tr>\n",
              "    <tr>\n",
              "      <th>max</th>\n",
              "      <td>2021.000000</td>\n",
              "    </tr>\n",
              "  </tbody>\n",
              "</table>\n",
              "</div>"
            ],
            "text/plain": [
              "                year\n",
              "count  266761.000000\n",
              "mean     1993.684722\n",
              "std         8.331988\n",
              "min      1376.000000\n",
              "25%      1989.000000\n",
              "50%      1996.000000\n",
              "75%      2000.000000\n",
              "max      2021.000000"
            ]
          },
          "metadata": {},
          "execution_count": 20
        }
      ]
    },
    {
      "cell_type": "markdown",
      "metadata": {
        "id": "jLPw9EiEt61C"
      },
      "source": [
        "![green-divider](https://user-images.githubusercontent.com/7065401/52071924-c003ad80-2562-11e9-8297-1c6595f8a7ff.png)"
      ]
    },
    {
      "cell_type": "markdown",
      "metadata": {
        "id": "PP5F_QF-uCjo"
      },
      "source": [
        "### Number of Books Published Per Year"
      ]
    },
    {
      "cell_type": "code",
      "metadata": {
        "colab": {
          "base_uri": "https://localhost:8080/",
          "height": 363
        },
        "id": "yBsuLjeNt8VO",
        "outputId": "770d1c5b-29e1-4585-8c69-aeb030b56e5a"
      },
      "source": [
        "# function to apply count\n",
        "def calculations(df):\n",
        "  # dict to store calculations\n",
        "  calc = {}\n",
        "  calc['#_books'] = len(df)\n",
        "\n",
        "  # return a Pandas Series\n",
        "  return pd.Series(calc, index=['#_books'])\n",
        "\n",
        "# groupby year\n",
        "books_year = df_book.groupby('year').apply(calculations).reset_index()\n",
        "\n",
        "books_year.tail(10)"
      ],
      "execution_count": 21,
      "outputs": [
        {
          "output_type": "execute_result",
          "data": {
            "text/html": [
              "<div>\n",
              "<style scoped>\n",
              "    .dataframe tbody tr th:only-of-type {\n",
              "        vertical-align: middle;\n",
              "    }\n",
              "\n",
              "    .dataframe tbody tr th {\n",
              "        vertical-align: top;\n",
              "    }\n",
              "\n",
              "    .dataframe thead th {\n",
              "        text-align: right;\n",
              "    }\n",
              "</style>\n",
              "<table border=\"1\" class=\"dataframe\">\n",
              "  <thead>\n",
              "    <tr style=\"text-align: right;\">\n",
              "      <th></th>\n",
              "      <th>year</th>\n",
              "      <th>#_books</th>\n",
              "    </tr>\n",
              "  </thead>\n",
              "  <tbody>\n",
              "    <tr>\n",
              "      <th>99</th>\n",
              "      <td>2003</td>\n",
              "      <td>14359</td>\n",
              "    </tr>\n",
              "    <tr>\n",
              "      <th>100</th>\n",
              "      <td>2004</td>\n",
              "      <td>5839</td>\n",
              "    </tr>\n",
              "    <tr>\n",
              "      <th>101</th>\n",
              "      <td>2005</td>\n",
              "      <td>46</td>\n",
              "    </tr>\n",
              "    <tr>\n",
              "      <th>102</th>\n",
              "      <td>2006</td>\n",
              "      <td>3</td>\n",
              "    </tr>\n",
              "    <tr>\n",
              "      <th>103</th>\n",
              "      <td>2008</td>\n",
              "      <td>1</td>\n",
              "    </tr>\n",
              "    <tr>\n",
              "      <th>104</th>\n",
              "      <td>2010</td>\n",
              "      <td>2</td>\n",
              "    </tr>\n",
              "    <tr>\n",
              "      <th>105</th>\n",
              "      <td>2011</td>\n",
              "      <td>2</td>\n",
              "    </tr>\n",
              "    <tr>\n",
              "      <th>106</th>\n",
              "      <td>2012</td>\n",
              "      <td>1</td>\n",
              "    </tr>\n",
              "    <tr>\n",
              "      <th>107</th>\n",
              "      <td>2020</td>\n",
              "      <td>3</td>\n",
              "    </tr>\n",
              "    <tr>\n",
              "      <th>108</th>\n",
              "      <td>2021</td>\n",
              "      <td>1</td>\n",
              "    </tr>\n",
              "  </tbody>\n",
              "</table>\n",
              "</div>"
            ],
            "text/plain": [
              "     year  #_books\n",
              "99   2003    14359\n",
              "100  2004     5839\n",
              "101  2005       46\n",
              "102  2006        3\n",
              "103  2008        1\n",
              "104  2010        2\n",
              "105  2011        2\n",
              "106  2012        1\n",
              "107  2020        3\n",
              "108  2021        1"
            ]
          },
          "metadata": {},
          "execution_count": 21
        }
      ]
    },
    {
      "cell_type": "code",
      "metadata": {
        "colab": {
          "base_uri": "https://localhost:8080/",
          "height": 305
        },
        "id": "j_Ssilg-w06b",
        "outputId": "462c1b82-a2f2-4b4c-accb-3966ac27e266"
      },
      "source": [
        "# countplot of books published per year\n",
        "\n",
        "f, ax = plt.subplots(figsize=(35, 8))\n",
        "\n",
        "\n",
        "sns.countplot(x=df_book['year'])\n",
        "plt.xticks(rotation=45)\n",
        "\n",
        "\n",
        "plt.title('Books Published Per year', pad=12)\n",
        "plt.show()"
      ],
      "execution_count": 22,
      "outputs": [
        {
          "output_type": "display_data",
          "data": {
            "image/png": "[encoded data removed]",
            "text/plain": [
              "<Figure size 2520x576 with 1 Axes>"
            ]
          },
          "metadata": {
            "needs_background": "light"
          }
        }
      ]
    },
    {
      "cell_type": "markdown",
      "metadata": {
        "id": "fnhEh7Xu0Jqu"
      },
      "source": [
        "![purple-divider](https://user-images.githubusercontent.com/7065401/52071927-c1cd7100-2562-11e9-908a-dde91ba14e59.png)"
      ]
    },
    {
      "cell_type": "markdown",
      "metadata": {
        "id": "08F7n-e20KSC"
      },
      "source": [
        "## Ratings Dataframe"
      ]
    },
    {
      "cell_type": "code",
      "metadata": {
        "id": "ttxpm49j0Nxo",
        "colab": {
          "base_uri": "https://localhost:8080/",
          "height": 206
        },
        "outputId": "96f766b1-f0d4-4423-b0f7-95975183b7d0"
      },
      "source": [
        "df_ratings.head()"
      ],
      "execution_count": 23,
      "outputs": [
        {
          "output_type": "execute_result",
          "data": {
            "text/html": [
              "<div>\n",
              "<style scoped>\n",
              "    .dataframe tbody tr th:only-of-type {\n",
              "        vertical-align: middle;\n",
              "    }\n",
              "\n",
              "    .dataframe tbody tr th {\n",
              "        vertical-align: top;\n",
              "    }\n",
              "\n",
              "    .dataframe thead th {\n",
              "        text-align: right;\n",
              "    }\n",
              "</style>\n",
              "<table border=\"1\" class=\"dataframe\">\n",
              "  <thead>\n",
              "    <tr style=\"text-align: right;\">\n",
              "      <th></th>\n",
              "      <th>user_id</th>\n",
              "      <th>isbn</th>\n",
              "      <th>rating</th>\n",
              "    </tr>\n",
              "  </thead>\n",
              "  <tbody>\n",
              "    <tr>\n",
              "      <th>0</th>\n",
              "      <td>276725</td>\n",
              "      <td>034545104X</td>\n",
              "      <td>0</td>\n",
              "    </tr>\n",
              "    <tr>\n",
              "      <th>1</th>\n",
              "      <td>276726</td>\n",
              "      <td>0155061224</td>\n",
              "      <td>5</td>\n",
              "    </tr>\n",
              "    <tr>\n",
              "      <th>2</th>\n",
              "      <td>276727</td>\n",
              "      <td>0446520802</td>\n",
              "      <td>0</td>\n",
              "    </tr>\n",
              "    <tr>\n",
              "      <th>3</th>\n",
              "      <td>276729</td>\n",
              "      <td>052165615X</td>\n",
              "      <td>3</td>\n",
              "    </tr>\n",
              "    <tr>\n",
              "      <th>4</th>\n",
              "      <td>276729</td>\n",
              "      <td>0521795028</td>\n",
              "      <td>6</td>\n",
              "    </tr>\n",
              "  </tbody>\n",
              "</table>\n",
              "</div>"
            ],
            "text/plain": [
              "   user_id        isbn  rating\n",
              "0   276725  034545104X       0\n",
              "1   276726  0155061224       5\n",
              "2   276727  0446520802       0\n",
              "3   276729  052165615X       3\n",
              "4   276729  0521795028       6"
            ]
          },
          "metadata": {},
          "execution_count": 23
        }
      ]
    },
    {
      "cell_type": "code",
      "metadata": {
        "colab": {
          "base_uri": "https://localhost:8080/"
        },
        "id": "hMZRVaMIiBVD",
        "outputId": "19b2cde2-9f2e-4f9e-e1f5-da0d9c66f720"
      },
      "source": [
        "# check shape\n",
        "df_ratings.shape"
      ],
      "execution_count": 24,
      "outputs": [
        {
          "output_type": "execute_result",
          "data": {
            "text/plain": [
              "(1149780, 3)"
            ]
          },
          "metadata": {},
          "execution_count": 24
        }
      ]
    },
    {
      "cell_type": "code",
      "metadata": {
        "colab": {
          "base_uri": "https://localhost:8080/"
        },
        "id": "Q5d06Oo0iFpz",
        "outputId": "404e816d-249b-4234-f376-3d4deb0bc122"
      },
      "source": [
        "# check column types\n",
        "df_ratings.dtypes"
      ],
      "execution_count": 25,
      "outputs": [
        {
          "output_type": "execute_result",
          "data": {
            "text/plain": [
              "user_id     int64\n",
              "isbn       object\n",
              "rating      int64\n",
              "dtype: object"
            ]
          },
          "metadata": {},
          "execution_count": 25
        }
      ]
    },
    {
      "cell_type": "code",
      "metadata": {
        "colab": {
          "base_uri": "https://localhost:8080/",
          "height": 393
        },
        "id": "fJ0olgC9iN5c",
        "outputId": "2b710db7-3503-4636-c04d-a8b5d778681d"
      },
      "source": [
        "# check for missing values\n",
        "msg.matrix(df_ratings, figsize=(12,5))"
      ],
      "execution_count": 26,
      "outputs": [
        {
          "output_type": "execute_result",
          "data": {
            "text/plain": [
              "<matplotlib.axes._subplots.AxesSubplot at 0x7f196bd93690>"
            ]
          },
          "metadata": {},
          "execution_count": 26
        },
        {
          "output_type": "display_data",
          "data": {
            "image/png": "[encoded data removed]",
            "text/plain": [
              "<Figure size 864x360 with 2 Axes>"
            ]
          },
          "metadata": {
            "needs_background": "light"
          }
        }
      ]
    },
    {
      "cell_type": "code",
      "metadata": {
        "colab": {
          "base_uri": "https://localhost:8080/",
          "height": 300
        },
        "id": "1cJzykAsjJeQ",
        "outputId": "1b03a30e-a5bd-4a2a-c2bb-c5fa22cb9d7a"
      },
      "source": [
        "# get descriptive statistics of numeric columns\n",
        "df_ratings.describe()"
      ],
      "execution_count": 27,
      "outputs": [
        {
          "output_type": "execute_result",
          "data": {
            "text/html": [
              "<div>\n",
              "<style scoped>\n",
              "    .dataframe tbody tr th:only-of-type {\n",
              "        vertical-align: middle;\n",
              "    }\n",
              "\n",
              "    .dataframe tbody tr th {\n",
              "        vertical-align: top;\n",
              "    }\n",
              "\n",
              "    .dataframe thead th {\n",
              "        text-align: right;\n",
              "    }\n",
              "</style>\n",
              "<table border=\"1\" class=\"dataframe\">\n",
              "  <thead>\n",
              "    <tr style=\"text-align: right;\">\n",
              "      <th></th>\n",
              "      <th>user_id</th>\n",
              "      <th>rating</th>\n",
              "    </tr>\n",
              "  </thead>\n",
              "  <tbody>\n",
              "    <tr>\n",
              "      <th>count</th>\n",
              "      <td>1.149780e+06</td>\n",
              "      <td>1.149780e+06</td>\n",
              "    </tr>\n",
              "    <tr>\n",
              "      <th>mean</th>\n",
              "      <td>1.403864e+05</td>\n",
              "      <td>2.866950e+00</td>\n",
              "    </tr>\n",
              "    <tr>\n",
              "      <th>std</th>\n",
              "      <td>8.056228e+04</td>\n",
              "      <td>3.854184e+00</td>\n",
              "    </tr>\n",
              "    <tr>\n",
              "      <th>min</th>\n",
              "      <td>2.000000e+00</td>\n",
              "      <td>0.000000e+00</td>\n",
              "    </tr>\n",
              "    <tr>\n",
              "      <th>25%</th>\n",
              "      <td>7.034500e+04</td>\n",
              "      <td>0.000000e+00</td>\n",
              "    </tr>\n",
              "    <tr>\n",
              "      <th>50%</th>\n",
              "      <td>1.410100e+05</td>\n",
              "      <td>0.000000e+00</td>\n",
              "    </tr>\n",
              "    <tr>\n",
              "      <th>75%</th>\n",
              "      <td>2.110280e+05</td>\n",
              "      <td>7.000000e+00</td>\n",
              "    </tr>\n",
              "    <tr>\n",
              "      <th>max</th>\n",
              "      <td>2.788540e+05</td>\n",
              "      <td>1.000000e+01</td>\n",
              "    </tr>\n",
              "  </tbody>\n",
              "</table>\n",
              "</div>"
            ],
            "text/plain": [
              "            user_id        rating\n",
              "count  1.149780e+06  1.149780e+06\n",
              "mean   1.403864e+05  2.866950e+00\n",
              "std    8.056228e+04  3.854184e+00\n",
              "min    2.000000e+00  0.000000e+00\n",
              "25%    7.034500e+04  0.000000e+00\n",
              "50%    1.410100e+05  0.000000e+00\n",
              "75%    2.110280e+05  7.000000e+00\n",
              "max    2.788540e+05  1.000000e+01"
            ]
          },
          "metadata": {},
          "execution_count": 27
        }
      ]
    },
    {
      "cell_type": "markdown",
      "metadata": {
        "id": "OqwS7dhxuE97"
      },
      "source": [
        "![green-divider](https://user-images.githubusercontent.com/7065401/52071924-c003ad80-2562-11e9-8297-1c6595f8a7ff.png)"
      ]
    },
    {
      "cell_type": "markdown",
      "metadata": {
        "id": "uhDcDAOXuAVq"
      },
      "source": [
        "### Ratings per Book Score"
      ]
    },
    {
      "cell_type": "code",
      "metadata": {
        "colab": {
          "base_uri": "https://localhost:8080/"
        },
        "id": "tBBAfX8kilhO",
        "outputId": "efb02307-94b0-4827-e592-ecf23fb3effc"
      },
      "source": [
        "# check unique values in rating column\n",
        "df_ratings.rating.unique()"
      ],
      "execution_count": 28,
      "outputs": [
        {
          "output_type": "execute_result",
          "data": {
            "text/plain": [
              "array([ 0,  5,  3,  6,  8,  7, 10,  9,  4,  1,  2])"
            ]
          },
          "metadata": {},
          "execution_count": 28
        }
      ]
    },
    {
      "cell_type": "code",
      "metadata": {
        "colab": {
          "base_uri": "https://localhost:8080/"
        },
        "id": "t95Y73CMjXDx",
        "outputId": "636e316a-32c0-44d1-8ee2-e55ed1e9f0cd"
      },
      "source": [
        "# count number of ratings per rating\n",
        "df_ratings.rating.value_counts()"
      ],
      "execution_count": 29,
      "outputs": [
        {
          "output_type": "execute_result",
          "data": {
            "text/plain": [
              "0     716109\n",
              "8     103736\n",
              "10     78610\n",
              "7      76457\n",
              "9      67541\n",
              "5      50974\n",
              "6      36924\n",
              "4       8904\n",
              "3       5996\n",
              "2       2759\n",
              "1       1770\n",
              "Name: rating, dtype: int64"
            ]
          },
          "metadata": {},
          "execution_count": 29
        }
      ]
    },
    {
      "cell_type": "code",
      "metadata": {
        "colab": {
          "base_uri": "https://localhost:8080/"
        },
        "id": "qlPqE3Irk9QQ",
        "outputId": "50759253-5605-4151-e72c-25d08516fabf"
      },
      "source": [
        "# make df without 0 ratings\n",
        "df_rate = df_ratings[df_ratings['rating'] != 0]\n",
        "\n",
        "df_rate.rating.value_counts()"
      ],
      "execution_count": 30,
      "outputs": [
        {
          "output_type": "execute_result",
          "data": {
            "text/plain": [
              "8     103736\n",
              "10     78610\n",
              "7      76457\n",
              "9      67541\n",
              "5      50974\n",
              "6      36924\n",
              "4       8904\n",
              "3       5996\n",
              "2       2759\n",
              "1       1770\n",
              "Name: rating, dtype: int64"
            ]
          },
          "metadata": {},
          "execution_count": 30
        }
      ]
    },
    {
      "cell_type": "code",
      "metadata": {
        "colab": {
          "base_uri": "https://localhost:8080/",
          "height": 300
        },
        "id": "ieKPwezwso43",
        "outputId": "a49cc322-e52d-4fac-84e2-c11147c8aa5b"
      },
      "source": [
        "# descriptive statistics\n",
        "df_rate.describe()"
      ],
      "execution_count": 31,
      "outputs": [
        {
          "output_type": "execute_result",
          "data": {
            "text/html": [
              "<div>\n",
              "<style scoped>\n",
              "    .dataframe tbody tr th:only-of-type {\n",
              "        vertical-align: middle;\n",
              "    }\n",
              "\n",
              "    .dataframe tbody tr th {\n",
              "        vertical-align: top;\n",
              "    }\n",
              "\n",
              "    .dataframe thead th {\n",
              "        text-align: right;\n",
              "    }\n",
              "</style>\n",
              "<table border=\"1\" class=\"dataframe\">\n",
              "  <thead>\n",
              "    <tr style=\"text-align: right;\">\n",
              "      <th></th>\n",
              "      <th>user_id</th>\n",
              "      <th>rating</th>\n",
              "    </tr>\n",
              "  </thead>\n",
              "  <tbody>\n",
              "    <tr>\n",
              "      <th>count</th>\n",
              "      <td>433671.000000</td>\n",
              "      <td>433671.000000</td>\n",
              "    </tr>\n",
              "    <tr>\n",
              "      <th>mean</th>\n",
              "      <td>135458.743451</td>\n",
              "      <td>7.601066</td>\n",
              "    </tr>\n",
              "    <tr>\n",
              "      <th>std</th>\n",
              "      <td>80678.385078</td>\n",
              "      <td>1.843798</td>\n",
              "    </tr>\n",
              "    <tr>\n",
              "      <th>min</th>\n",
              "      <td>8.000000</td>\n",
              "      <td>1.000000</td>\n",
              "    </tr>\n",
              "    <tr>\n",
              "      <th>25%</th>\n",
              "      <td>66619.000000</td>\n",
              "      <td>7.000000</td>\n",
              "    </tr>\n",
              "    <tr>\n",
              "      <th>50%</th>\n",
              "      <td>133184.000000</td>\n",
              "      <td>8.000000</td>\n",
              "    </tr>\n",
              "    <tr>\n",
              "      <th>75%</th>\n",
              "      <td>205735.000000</td>\n",
              "      <td>9.000000</td>\n",
              "    </tr>\n",
              "    <tr>\n",
              "      <th>max</th>\n",
              "      <td>278854.000000</td>\n",
              "      <td>10.000000</td>\n",
              "    </tr>\n",
              "  </tbody>\n",
              "</table>\n",
              "</div>"
            ],
            "text/plain": [
              "             user_id         rating\n",
              "count  433671.000000  433671.000000\n",
              "mean   135458.743451       7.601066\n",
              "std     80678.385078       1.843798\n",
              "min         8.000000       1.000000\n",
              "25%     66619.000000       7.000000\n",
              "50%    133184.000000       8.000000\n",
              "75%    205735.000000       9.000000\n",
              "max    278854.000000      10.000000"
            ]
          },
          "metadata": {},
          "execution_count": 31
        }
      ]
    },
    {
      "cell_type": "code",
      "metadata": {
        "colab": {
          "base_uri": "https://localhost:8080/",
          "height": 410
        },
        "id": "ERfg3LQ4iuxU",
        "outputId": "ff1231dd-e612-46b3-b4f7-401c44df727c"
      },
      "source": [
        "# countplot of ratings\n",
        "\n",
        "f, ax = plt.subplots(figsize=(12, 6))\n",
        "\n",
        "sns.countplot(x=df_rate.rating)\n",
        "\n",
        "plt.title('Number of Ratings per Book Score', pad=12)\n",
        "plt.show()"
      ],
      "execution_count": 32,
      "outputs": [
        {
          "output_type": "display_data",
          "data": {
            "image/png": "[encoded data removed]",
            "text/plain": [
              "<Figure size 864x432 with 1 Axes>"
            ]
          },
          "metadata": {
            "needs_background": "light"
          }
        }
      ]
    },
    {
      "cell_type": "markdown",
      "metadata": {
        "id": "tC4s2ZWIya0s"
      },
      "source": [
        "#### Avg Score per Book"
      ]
    },
    {
      "cell_type": "code",
      "metadata": {
        "colab": {
          "base_uri": "https://localhost:8080/",
          "height": 206
        },
        "id": "XAMXynZiuZj7",
        "outputId": "9846dd95-a6ef-460a-ce79-c4a45534a135"
      },
      "source": [
        "# avg score per book\n",
        "\n",
        "avg_score = df_rate.groupby(['isbn']).rating.mean().reset_index()\n",
        "avg_score.head()"
      ],
      "execution_count": 33,
      "outputs": [
        {
          "output_type": "execute_result",
          "data": {
            "text/html": [
              "<div>\n",
              "<style scoped>\n",
              "    .dataframe tbody tr th:only-of-type {\n",
              "        vertical-align: middle;\n",
              "    }\n",
              "\n",
              "    .dataframe tbody tr th {\n",
              "        vertical-align: top;\n",
              "    }\n",
              "\n",
              "    .dataframe thead th {\n",
              "        text-align: right;\n",
              "    }\n",
              "</style>\n",
              "<table border=\"1\" class=\"dataframe\">\n",
              "  <thead>\n",
              "    <tr style=\"text-align: right;\">\n",
              "      <th></th>\n",
              "      <th>isbn</th>\n",
              "      <th>rating</th>\n",
              "    </tr>\n",
              "  </thead>\n",
              "  <tbody>\n",
              "    <tr>\n",
              "      <th>0</th>\n",
              "      <td>0330299891</td>\n",
              "      <td>6.0</td>\n",
              "    </tr>\n",
              "    <tr>\n",
              "      <th>1</th>\n",
              "      <td>0375404120</td>\n",
              "      <td>3.0</td>\n",
              "    </tr>\n",
              "    <tr>\n",
              "      <th>2</th>\n",
              "      <td>9022906116</td>\n",
              "      <td>7.0</td>\n",
              "    </tr>\n",
              "    <tr>\n",
              "      <th>3</th>\n",
              "      <td>#6612432</td>\n",
              "      <td>5.0</td>\n",
              "    </tr>\n",
              "    <tr>\n",
              "      <th>4</th>\n",
              "      <td>'9607092910'</td>\n",
              "      <td>10.0</td>\n",
              "    </tr>\n",
              "  </tbody>\n",
              "</table>\n",
              "</div>"
            ],
            "text/plain": [
              "           isbn  rating\n",
              "0    0330299891     6.0\n",
              "1    0375404120     3.0\n",
              "2    9022906116     7.0\n",
              "3      #6612432     5.0\n",
              "4  '9607092910'    10.0"
            ]
          },
          "metadata": {},
          "execution_count": 33
        }
      ]
    },
    {
      "cell_type": "markdown",
      "metadata": {
        "id": "_2kdyxsz4t8O"
      },
      "source": [
        "![purple-divider](https://user-images.githubusercontent.com/7065401/52071927-c1cd7100-2562-11e9-908a-dde91ba14e59.png)"
      ]
    },
    {
      "cell_type": "markdown",
      "metadata": {
        "id": "vXJN3BrO4uoc"
      },
      "source": [
        "## Merging of df_book & avg_score"
      ]
    },
    {
      "cell_type": "code",
      "metadata": {
        "colab": {
          "base_uri": "https://localhost:8080/",
          "height": 206
        },
        "id": "SjvJBBS9wtau",
        "outputId": "220280da-5013-40fb-8fd1-150bf8489ed9"
      },
      "source": [
        "# merge df_book & avg_score on the isbn column\n",
        "df_merged = df_book.merge(avg_score, left_on='isbn', right_on='isbn')\n",
        "df_merged.head()"
      ],
      "execution_count": 34,
      "outputs": [
        {
          "output_type": "execute_result",
          "data": {
            "text/html": [
              "<div>\n",
              "<style scoped>\n",
              "    .dataframe tbody tr th:only-of-type {\n",
              "        vertical-align: middle;\n",
              "    }\n",
              "\n",
              "    .dataframe tbody tr th {\n",
              "        vertical-align: top;\n",
              "    }\n",
              "\n",
              "    .dataframe thead th {\n",
              "        text-align: right;\n",
              "    }\n",
              "</style>\n",
              "<table border=\"1\" class=\"dataframe\">\n",
              "  <thead>\n",
              "    <tr style=\"text-align: right;\">\n",
              "      <th></th>\n",
              "      <th>isbn</th>\n",
              "      <th>title</th>\n",
              "      <th>author</th>\n",
              "      <th>year</th>\n",
              "      <th>rating</th>\n",
              "    </tr>\n",
              "  </thead>\n",
              "  <tbody>\n",
              "    <tr>\n",
              "      <th>0</th>\n",
              "      <td>0002005018</td>\n",
              "      <td>Clara Callan</td>\n",
              "      <td>Richard Bruce Wright</td>\n",
              "      <td>2001</td>\n",
              "      <td>7.666667</td>\n",
              "    </tr>\n",
              "    <tr>\n",
              "      <th>1</th>\n",
              "      <td>0060973129</td>\n",
              "      <td>Decision in Normandy</td>\n",
              "      <td>Carlo D'Este</td>\n",
              "      <td>1991</td>\n",
              "      <td>7.500000</td>\n",
              "    </tr>\n",
              "    <tr>\n",
              "      <th>2</th>\n",
              "      <td>0374157065</td>\n",
              "      <td>Flu: The Story of the Great Influenza Pandemic...</td>\n",
              "      <td>Gina Bari Kolata</td>\n",
              "      <td>1999</td>\n",
              "      <td>7.833333</td>\n",
              "    </tr>\n",
              "    <tr>\n",
              "      <th>3</th>\n",
              "      <td>0399135782</td>\n",
              "      <td>The Kitchen God's Wife</td>\n",
              "      <td>Amy Tan</td>\n",
              "      <td>1991</td>\n",
              "      <td>8.176471</td>\n",
              "    </tr>\n",
              "    <tr>\n",
              "      <th>4</th>\n",
              "      <td>0425176428</td>\n",
              "      <td>What If?: The World's Foremost Military Histor...</td>\n",
              "      <td>Robert Cowley</td>\n",
              "      <td>2000</td>\n",
              "      <td>8.000000</td>\n",
              "    </tr>\n",
              "  </tbody>\n",
              "</table>\n",
              "</div>"
            ],
            "text/plain": [
              "         isbn  ...    rating\n",
              "0  0002005018  ...  7.666667\n",
              "1  0060973129  ...  7.500000\n",
              "2  0374157065  ...  7.833333\n",
              "3  0399135782  ...  8.176471\n",
              "4  0425176428  ...  8.000000\n",
              "\n",
              "[5 rows x 5 columns]"
            ]
          },
          "metadata": {},
          "execution_count": 34
        }
      ]
    },
    {
      "cell_type": "code",
      "metadata": {
        "colab": {
          "base_uri": "https://localhost:8080/",
          "height": 206
        },
        "id": "NgZa2Ca8xWRv",
        "outputId": "bceb82c2-b55c-429e-b741-dff94113ff13"
      },
      "source": [
        "# look for George Orwell books\n",
        "df_merged[df_merged['author'] == 'George Orwell'].head()\n"
      ],
      "execution_count": 35,
      "outputs": [
        {
          "output_type": "execute_result",
          "data": {
            "text/html": [
              "<div>\n",
              "<style scoped>\n",
              "    .dataframe tbody tr th:only-of-type {\n",
              "        vertical-align: middle;\n",
              "    }\n",
              "\n",
              "    .dataframe tbody tr th {\n",
              "        vertical-align: top;\n",
              "    }\n",
              "\n",
              "    .dataframe thead th {\n",
              "        text-align: right;\n",
              "    }\n",
              "</style>\n",
              "<table border=\"1\" class=\"dataframe\">\n",
              "  <thead>\n",
              "    <tr style=\"text-align: right;\">\n",
              "      <th></th>\n",
              "      <th>isbn</th>\n",
              "      <th>title</th>\n",
              "      <th>author</th>\n",
              "      <th>year</th>\n",
              "      <th>rating</th>\n",
              "    </tr>\n",
              "  </thead>\n",
              "  <tbody>\n",
              "    <tr>\n",
              "      <th>253</th>\n",
              "      <td>0451526341</td>\n",
              "      <td>Animal Farm</td>\n",
              "      <td>George Orwell</td>\n",
              "      <td>2004</td>\n",
              "      <td>8.369565</td>\n",
              "    </tr>\n",
              "    <tr>\n",
              "      <th>1804</th>\n",
              "      <td>0451524934</td>\n",
              "      <td>1984</td>\n",
              "      <td>George Orwell</td>\n",
              "      <td>1990</td>\n",
              "      <td>8.772277</td>\n",
              "    </tr>\n",
              "    <tr>\n",
              "      <th>3569</th>\n",
              "      <td>0452254264</td>\n",
              "      <td>Nineteen Eighty-Four</td>\n",
              "      <td>George Orwell</td>\n",
              "      <td>1983</td>\n",
              "      <td>10.000000</td>\n",
              "    </tr>\n",
              "    <tr>\n",
              "      <th>4189</th>\n",
              "      <td>0451522303</td>\n",
              "      <td>Animal Farm</td>\n",
              "      <td>George Orwell</td>\n",
              "      <td>1956</td>\n",
              "      <td>9.000000</td>\n",
              "    </tr>\n",
              "    <tr>\n",
              "      <th>5046</th>\n",
              "      <td>0451524667</td>\n",
              "      <td>Animal Farm</td>\n",
              "      <td>George Orwell</td>\n",
              "      <td>1990</td>\n",
              "      <td>8.285714</td>\n",
              "    </tr>\n",
              "  </tbody>\n",
              "</table>\n",
              "</div>"
            ],
            "text/plain": [
              "            isbn                 title         author  year     rating\n",
              "253   0451526341           Animal Farm  George Orwell  2004   8.369565\n",
              "1804  0451524934                  1984  George Orwell  1990   8.772277\n",
              "3569  0452254264  Nineteen Eighty-Four  George Orwell  1983  10.000000\n",
              "4189  0451522303           Animal Farm  George Orwell  1956   9.000000\n",
              "5046  0451524667           Animal Farm  George Orwell  1990   8.285714"
            ]
          },
          "metadata": {},
          "execution_count": 35
        }
      ]
    },
    {
      "cell_type": "code",
      "metadata": {
        "colab": {
          "base_uri": "https://localhost:8080/",
          "height": 206
        },
        "id": "LeqeKaEB5Hp3",
        "outputId": "e15d106b-63fb-4cf0-dce4-94981fa6e4d7"
      },
      "source": [
        "# look for Hermann Hesse books\n",
        "df_merged[df_merged['author'] == 'Hermann Hesse'].head()"
      ],
      "execution_count": 36,
      "outputs": [
        {
          "output_type": "execute_result",
          "data": {
            "text/html": [
              "<div>\n",
              "<style scoped>\n",
              "    .dataframe tbody tr th:only-of-type {\n",
              "        vertical-align: middle;\n",
              "    }\n",
              "\n",
              "    .dataframe tbody tr th {\n",
              "        vertical-align: top;\n",
              "    }\n",
              "\n",
              "    .dataframe thead th {\n",
              "        text-align: right;\n",
              "    }\n",
              "</style>\n",
              "<table border=\"1\" class=\"dataframe\">\n",
              "  <thead>\n",
              "    <tr style=\"text-align: right;\">\n",
              "      <th></th>\n",
              "      <th>isbn</th>\n",
              "      <th>title</th>\n",
              "      <th>author</th>\n",
              "      <th>year</th>\n",
              "      <th>rating</th>\n",
              "    </tr>\n",
              "  </thead>\n",
              "  <tbody>\n",
              "    <tr>\n",
              "      <th>1064</th>\n",
              "      <td>3518367064</td>\n",
              "      <td>Demian. Die Geschichte von Emil Sinclairs Jugend.</td>\n",
              "      <td>Hermann Hesse</td>\n",
              "      <td>1974</td>\n",
              "      <td>8.000000</td>\n",
              "    </tr>\n",
              "    <tr>\n",
              "      <th>1770</th>\n",
              "      <td>0312278675</td>\n",
              "      <td>Steppenwolf: A Novel</td>\n",
              "      <td>Hermann Hesse</td>\n",
              "      <td>2002</td>\n",
              "      <td>7.857143</td>\n",
              "    </tr>\n",
              "    <tr>\n",
              "      <th>1775</th>\n",
              "      <td>0805012478</td>\n",
              "      <td>Steppenwolf</td>\n",
              "      <td>Hermann Hesse</td>\n",
              "      <td>1990</td>\n",
              "      <td>8.000000</td>\n",
              "    </tr>\n",
              "    <tr>\n",
              "      <th>2215</th>\n",
              "      <td>0553275860</td>\n",
              "      <td>Narcissus and Goldmund</td>\n",
              "      <td>Hermann Hesse</td>\n",
              "      <td>1984</td>\n",
              "      <td>8.250000</td>\n",
              "    </tr>\n",
              "    <tr>\n",
              "      <th>2806</th>\n",
              "      <td>0553208845</td>\n",
              "      <td>Siddhartha</td>\n",
              "      <td>Hermann Hesse</td>\n",
              "      <td>1981</td>\n",
              "      <td>8.500000</td>\n",
              "    </tr>\n",
              "  </tbody>\n",
              "</table>\n",
              "</div>"
            ],
            "text/plain": [
              "            isbn  ...    rating\n",
              "1064  3518367064  ...  8.000000\n",
              "1770  0312278675  ...  7.857143\n",
              "1775  0805012478  ...  8.000000\n",
              "2215  0553275860  ...  8.250000\n",
              "2806  0553208845  ...  8.500000\n",
              "\n",
              "[5 rows x 5 columns]"
            ]
          },
          "metadata": {},
          "execution_count": 36
        }
      ]
    },
    {
      "cell_type": "markdown",
      "metadata": {
        "id": "sOSbvcms9bNK"
      },
      "source": [
        "![purple-divider](https://user-images.githubusercontent.com/7065401/52071927-c1cd7100-2562-11e9-908a-dde91ba14e59.png)"
      ]
    },
    {
      "cell_type": "markdown",
      "metadata": {
        "id": "JJwlW_1D9eVN"
      },
      "source": [
        "## Features & Labels Encoding"
      ]
    },
    {
      "cell_type": "markdown",
      "metadata": {
        "id": "P8iDFpHt9jjh"
      },
      "source": [
        "### Favorite Authors"
      ]
    },
    {
      "cell_type": "code",
      "metadata": {
        "id": "USWBX2985a0l"
      },
      "source": [
        "# list of favorite authors\n",
        "favorite_authors = ['George Orwell', 'Isaac Asimov', 'Hermann Hesse', 'Aldous Huxley', 'Arthur Conan Doyle',\\\n",
        "                    'J.R.R. Tolkien', ' George R.R. Martin']"
      ],
      "execution_count": 37,
      "outputs": []
    },
    {
      "cell_type": "code",
      "metadata": {
        "id": "vortQUvz9vI4"
      },
      "source": [
        "# creation of columns\n",
        "\n",
        "df_merged['is_Orwell'] = [1 if df_merged.iloc[index].author == 'George Orwell' else 0 for index in df_merged.index]\n",
        "df_merged['is_Asimov'] = [1 if df_merged.iloc[index].author == 'Isaac Asimov' else 0 for index in df_merged.index]\n",
        "df_merged['is_Hesse'] = [1 if df_merged.iloc[index].author == 'Hermann Hesse' else 0 for index in df_merged.index]\n",
        "df_merged['is_Huxley'] = [1 if df_merged.iloc[index].author == 'Aldous Huxley' else 0 for index in df_merged.index]\n",
        "df_merged['is_Doyle'] = [1 if df_merged.iloc[index].author == 'Arthur Conan Doyle' else 0 for index in df_merged.index]\n",
        "df_merged['is_Tolkien'] = [1 if df_merged.iloc[index].author == 'J.R.R. Tolkien' else 0 for index in df_merged.index]\n",
        "df_merged['is_Martin'] = [1 if df_merged.iloc[index].author == 'George R.R. Martin' else 0 for index in df_merged.index]"
      ],
      "execution_count": 38,
      "outputs": []
    },
    {
      "cell_type": "code",
      "metadata": {
        "colab": {
          "base_uri": "https://localhost:8080/",
          "height": 276
        },
        "id": "meMiC3jD-Ixh",
        "outputId": "afaff5f1-5a5a-4397-c025-98d7204a083d"
      },
      "source": [
        "df_merged.head()"
      ],
      "execution_count": 39,
      "outputs": [
        {
          "output_type": "execute_result",
          "data": {
            "text/html": [
              "<div>\n",
              "<style scoped>\n",
              "    .dataframe tbody tr th:only-of-type {\n",
              "        vertical-align: middle;\n",
              "    }\n",
              "\n",
              "    .dataframe tbody tr th {\n",
              "        vertical-align: top;\n",
              "    }\n",
              "\n",
              "    .dataframe thead th {\n",
              "        text-align: right;\n",
              "    }\n",
              "</style>\n",
              "<table border=\"1\" class=\"dataframe\">\n",
              "  <thead>\n",
              "    <tr style=\"text-align: right;\">\n",
              "      <th></th>\n",
              "      <th>isbn</th>\n",
              "      <th>title</th>\n",
              "      <th>author</th>\n",
              "      <th>year</th>\n",
              "      <th>rating</th>\n",
              "      <th>is_Orwell</th>\n",
              "      <th>is_Asimov</th>\n",
              "      <th>is_Hesse</th>\n",
              "      <th>is_Huxley</th>\n",
              "      <th>is_Doyle</th>\n",
              "      <th>is_Tolkien</th>\n",
              "      <th>is_Martin</th>\n",
              "    </tr>\n",
              "  </thead>\n",
              "  <tbody>\n",
              "    <tr>\n",
              "      <th>0</th>\n",
              "      <td>0002005018</td>\n",
              "      <td>Clara Callan</td>\n",
              "      <td>Richard Bruce Wright</td>\n",
              "      <td>2001</td>\n",
              "      <td>7.666667</td>\n",
              "      <td>0</td>\n",
              "      <td>0</td>\n",
              "      <td>0</td>\n",
              "      <td>0</td>\n",
              "      <td>0</td>\n",
              "      <td>0</td>\n",
              "      <td>0</td>\n",
              "    </tr>\n",
              "    <tr>\n",
              "      <th>1</th>\n",
              "      <td>0060973129</td>\n",
              "      <td>Decision in Normandy</td>\n",
              "      <td>Carlo D'Este</td>\n",
              "      <td>1991</td>\n",
              "      <td>7.500000</td>\n",
              "      <td>0</td>\n",
              "      <td>0</td>\n",
              "      <td>0</td>\n",
              "      <td>0</td>\n",
              "      <td>0</td>\n",
              "      <td>0</td>\n",
              "      <td>0</td>\n",
              "    </tr>\n",
              "    <tr>\n",
              "      <th>2</th>\n",
              "      <td>0374157065</td>\n",
              "      <td>Flu: The Story of the Great Influenza Pandemic...</td>\n",
              "      <td>Gina Bari Kolata</td>\n",
              "      <td>1999</td>\n",
              "      <td>7.833333</td>\n",
              "      <td>0</td>\n",
              "      <td>0</td>\n",
              "      <td>0</td>\n",
              "      <td>0</td>\n",
              "      <td>0</td>\n",
              "      <td>0</td>\n",
              "      <td>0</td>\n",
              "    </tr>\n",
              "    <tr>\n",
              "      <th>3</th>\n",
              "      <td>0399135782</td>\n",
              "      <td>The Kitchen God's Wife</td>\n",
              "      <td>Amy Tan</td>\n",
              "      <td>1991</td>\n",
              "      <td>8.176471</td>\n",
              "      <td>0</td>\n",
              "      <td>0</td>\n",
              "      <td>0</td>\n",
              "      <td>0</td>\n",
              "      <td>0</td>\n",
              "      <td>0</td>\n",
              "      <td>0</td>\n",
              "    </tr>\n",
              "    <tr>\n",
              "      <th>4</th>\n",
              "      <td>0425176428</td>\n",
              "      <td>What If?: The World's Foremost Military Histor...</td>\n",
              "      <td>Robert Cowley</td>\n",
              "      <td>2000</td>\n",
              "      <td>8.000000</td>\n",
              "      <td>0</td>\n",
              "      <td>0</td>\n",
              "      <td>0</td>\n",
              "      <td>0</td>\n",
              "      <td>0</td>\n",
              "      <td>0</td>\n",
              "      <td>0</td>\n",
              "    </tr>\n",
              "  </tbody>\n",
              "</table>\n",
              "</div>"
            ],
            "text/plain": [
              "         isbn  ... is_Martin\n",
              "0  0002005018  ...         0\n",
              "1  0060973129  ...         0\n",
              "2  0374157065  ...         0\n",
              "3  0399135782  ...         0\n",
              "4  0425176428  ...         0\n",
              "\n",
              "[5 rows x 12 columns]"
            ]
          },
          "metadata": {},
          "execution_count": 39
        }
      ]
    }
  ]
}